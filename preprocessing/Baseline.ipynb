{
  "nbformat": 4,
  "nbformat_minor": 0,
  "metadata": {
    "colab": {
      "provenance": []
    },
    "kernelspec": {
      "name": "python3",
      "display_name": "Python 3"
    },
    "language_info": {
      "name": "python"
    }
  },
  "cells": [
    {
      "cell_type": "code",
      "source": [
        "%cd /content/drive/MyDrive/AIPI_590/Final Project/Diginetica"
      ],
      "metadata": {
        "colab": {
          "base_uri": "https://localhost:8080/"
        },
        "id": "IJlItSX_dhPC",
        "outputId": "f8a9e083-0f4c-49c4-d6a8-a39dc9502042"
      },
      "execution_count": 1,
      "outputs": [
        {
          "output_type": "stream",
          "name": "stdout",
          "text": [
            "/content/drive/MyDrive/AIPI_590/Final Project/Diginetica\n"
          ]
        }
      ]
    },
    {
      "cell_type": "code",
      "source": [
        "import numpy as np\n",
        "import pandas as pd\n",
        "import datetime"
      ],
      "metadata": {
        "id": "ZZyYHnN0mjHi"
      },
      "execution_count": 2,
      "outputs": []
    },
    {
      "cell_type": "code",
      "execution_count": 6,
      "metadata": {
        "colab": {
          "base_uri": "https://localhost:8080/"
        },
        "id": "qDjzF3zrXhhU",
        "outputId": "5e4b0ece-ff73-435f-8187-e42f6a696de9"
      },
      "outputs": [
        {
          "output_type": "stream",
          "name": "stdout",
          "text": [
            "Running baseline. Now it's 2022-11-29T17:44:29.857460\n",
            "Total queries 923127\n",
            "Test queries 286967\n",
            "Item views 1235380\n",
            "Clicks 1127764\n",
            "Purchases 18025\n",
            "Scoring popularity for each item ...\n",
            "Popularity scored for 128910 products\n",
            "Sorting items per query by popularity...\n",
            "0.0 %...\n",
            "5.0 %...\n",
            "10.0 %...\n",
            "15.0 %...\n",
            "20.0 %...\n",
            "25.0 %...\n",
            "30.0 %...\n",
            "35.0 %...\n",
            "40.0 %...\n",
            "45.0 %...\n",
            "50.0 %...\n",
            "55.0 %...\n",
            "60.0 %...\n",
            "65.0 %...\n",
            "70.0 %...\n",
            "75.0 %...\n",
            "80.0 %...\n",
            "85.0 %...\n",
            "90.0 %...\n",
            "95.0 %...\n",
            "100.0 %...\n",
            "Done. Now it's  2022-11-29T17:45:36.058269\n",
            "Calculated baseline in  66  seconds\n"
          ]
        }
      ],
      "source": [
        "# This is sample baseline for CIKM Personalization Cup 2016\n",
        "# by Alexander Laktionov & Vladislav Grozin\n",
        "\n",
        "import numpy as np\n",
        "import pandas as pd\n",
        "import datetime\n",
        "\n",
        "start_time = datetime.datetime.now()\n",
        "print(\"Running baseline. Now it's\", start_time.isoformat())\n",
        "\n",
        "# Loading queries (assuming data placed in <dataset-train/>\n",
        "queries = pd.read_csv('dataset-train/train-queries.csv', sep=';')[['queryId', 'items', 'is.test']]\n",
        "print('Total queries', len(queries))\n",
        "\n",
        "# Leaving only test queries (the ones which items we have to sort)\n",
        "queries = queries[queries['is.test'] == True][['queryId', 'items']]\n",
        "print('Test queries', len(queries))\n",
        "queries.reset_index(inplace=True)\n",
        "queries.drop(['index'], axis=1, inplace=True)\n",
        "\n",
        "# Loading item views; taking itemId column\n",
        "item_views = pd.read_csv('dataset-train/train-item-views.csv', sep=';')[['itemId']]\n",
        "print('Item views', len(item_views))\n",
        "\n",
        "# Loading clicks; taking itemId column\n",
        "clicks = pd.read_csv('dataset-train/train-clicks.csv', sep=';')[['itemId']]\n",
        "print('Clicks', len(clicks))\n",
        "\n",
        "# Loading purchases; taking itemId column\n",
        "purchases = pd.read_csv('dataset-train/train-purchases.csv', sep=';')[['itemId']]\n",
        "print('Purchases', len(purchases))\n",
        "\n",
        "# Calculating popularity as [Amount of views] * 1 + Amount of clicks * 2 + [Amount of purchases] * 3\n",
        "print('Scoring popularity for each item ...')\n",
        "prod_pop = {}\n",
        "for cost, container in enumerate([item_views, clicks, purchases]):\n",
        "    for prod in container.values:\n",
        "        product = str(prod[0])\n",
        "        if product not in prod_pop:\n",
        "            prod_pop[product] = cost\n",
        "        else:\n",
        "            prod_pop[product] += cost\n",
        "\n",
        "print('Popularity scored for', len(prod_pop), 'products')\n",
        "\n",
        "# For each query:\n",
        "#   parse items (comma-separated values in last column)\n",
        "#   sort them by score;\n",
        "#   write them to the submission file.\n",
        "# This is longest part; it usually takes around 5 minutes.\n",
        "print('Sorting items per query by popularity...')\n",
        "\n",
        "answers = []\n",
        "step = int(len(queries) / 20)\n",
        "\n",
        "with open('submission.txt', 'w+') as submission:\n",
        "    for i, q in enumerate(queries.values):\n",
        "\n",
        "        # Fancy progressbar\n",
        "        if i % step == 0:\n",
        "            print(5 * i / step, '%...')\n",
        "\n",
        "        # Splitting last column which contains comma-separated items\n",
        "        items = q[-1].split(',')\n",
        "        # Getting scores for each item. Also, inverting scores here, so we can use argsort\n",
        "        items_scores = list(map(lambda x: -prod_pop.get(x, 0), items))\n",
        "        # Sorting items using items_scores order permutation\n",
        "        sorted_items = np.array(items)[np.array(items_scores).argsort()]\n",
        "        # Squashing items together\n",
        "        s = ','.join(sorted_items)\n",
        "        # and writing them to submission\n",
        "        submission.write(str(q[0]) + \" \" + s + \"\\n\")\n",
        "\n",
        "end_time = datetime.datetime.now()\n",
        "print(\"Done. Now it's \", end_time.isoformat())\n",
        "print(\"Calculated baseline in \", (end_time - start_time).seconds, \" seconds\")"
      ]
    },
    {
      "cell_type": "code",
      "source": [
        "purchase_df = pd.read_csv('dataset-train/train-purchases.csv', sep=';')"
      ],
      "metadata": {
        "id": "NIfHi2UkdToV"
      },
      "execution_count": 3,
      "outputs": []
    },
    {
      "cell_type": "code",
      "source": [
        "purchase_df[purchase_df['sessionId']==150]"
      ],
      "metadata": {
        "colab": {
          "base_uri": "https://localhost:8080/",
          "height": 81
        },
        "id": "dmduZtN82JTj",
        "outputId": "da66053b-bd1a-4916-8cde-db5044588f23"
      },
      "execution_count": 4,
      "outputs": [
        {
          "output_type": "execute_result",
          "data": {
            "text/plain": [
              "   sessionId   userId  timeframe   eventdate  ordernumber  itemId\n",
              "0        150  18278.0   17100868  2016-05-06        16421   25911"
            ],
            "text/html": [
              "\n",
              "  <div id=\"df-ecced0cd-f85b-42f7-89b9-ac71d0639936\">\n",
              "    <div class=\"colab-df-container\">\n",
              "      <div>\n",
              "<style scoped>\n",
              "    .dataframe tbody tr th:only-of-type {\n",
              "        vertical-align: middle;\n",
              "    }\n",
              "\n",
              "    .dataframe tbody tr th {\n",
              "        vertical-align: top;\n",
              "    }\n",
              "\n",
              "    .dataframe thead th {\n",
              "        text-align: right;\n",
              "    }\n",
              "</style>\n",
              "<table border=\"1\" class=\"dataframe\">\n",
              "  <thead>\n",
              "    <tr style=\"text-align: right;\">\n",
              "      <th></th>\n",
              "      <th>sessionId</th>\n",
              "      <th>userId</th>\n",
              "      <th>timeframe</th>\n",
              "      <th>eventdate</th>\n",
              "      <th>ordernumber</th>\n",
              "      <th>itemId</th>\n",
              "    </tr>\n",
              "  </thead>\n",
              "  <tbody>\n",
              "    <tr>\n",
              "      <th>0</th>\n",
              "      <td>150</td>\n",
              "      <td>18278.0</td>\n",
              "      <td>17100868</td>\n",
              "      <td>2016-05-06</td>\n",
              "      <td>16421</td>\n",
              "      <td>25911</td>\n",
              "    </tr>\n",
              "  </tbody>\n",
              "</table>\n",
              "</div>\n",
              "      <button class=\"colab-df-convert\" onclick=\"convertToInteractive('df-ecced0cd-f85b-42f7-89b9-ac71d0639936')\"\n",
              "              title=\"Convert this dataframe to an interactive table.\"\n",
              "              style=\"display:none;\">\n",
              "        \n",
              "  <svg xmlns=\"http://www.w3.org/2000/svg\" height=\"24px\"viewBox=\"0 0 24 24\"\n",
              "       width=\"24px\">\n",
              "    <path d=\"M0 0h24v24H0V0z\" fill=\"none\"/>\n",
              "    <path d=\"M18.56 5.44l.94 2.06.94-2.06 2.06-.94-2.06-.94-.94-2.06-.94 2.06-2.06.94zm-11 1L8.5 8.5l.94-2.06 2.06-.94-2.06-.94L8.5 2.5l-.94 2.06-2.06.94zm10 10l.94 2.06.94-2.06 2.06-.94-2.06-.94-.94-2.06-.94 2.06-2.06.94z\"/><path d=\"M17.41 7.96l-1.37-1.37c-.4-.4-.92-.59-1.43-.59-.52 0-1.04.2-1.43.59L10.3 9.45l-7.72 7.72c-.78.78-.78 2.05 0 2.83L4 21.41c.39.39.9.59 1.41.59.51 0 1.02-.2 1.41-.59l7.78-7.78 2.81-2.81c.8-.78.8-2.07 0-2.86zM5.41 20L4 18.59l7.72-7.72 1.47 1.35L5.41 20z\"/>\n",
              "  </svg>\n",
              "      </button>\n",
              "      \n",
              "  <style>\n",
              "    .colab-df-container {\n",
              "      display:flex;\n",
              "      flex-wrap:wrap;\n",
              "      gap: 12px;\n",
              "    }\n",
              "\n",
              "    .colab-df-convert {\n",
              "      background-color: #E8F0FE;\n",
              "      border: none;\n",
              "      border-radius: 50%;\n",
              "      cursor: pointer;\n",
              "      display: none;\n",
              "      fill: #1967D2;\n",
              "      height: 32px;\n",
              "      padding: 0 0 0 0;\n",
              "      width: 32px;\n",
              "    }\n",
              "\n",
              "    .colab-df-convert:hover {\n",
              "      background-color: #E2EBFA;\n",
              "      box-shadow: 0px 1px 2px rgba(60, 64, 67, 0.3), 0px 1px 3px 1px rgba(60, 64, 67, 0.15);\n",
              "      fill: #174EA6;\n",
              "    }\n",
              "\n",
              "    [theme=dark] .colab-df-convert {\n",
              "      background-color: #3B4455;\n",
              "      fill: #D2E3FC;\n",
              "    }\n",
              "\n",
              "    [theme=dark] .colab-df-convert:hover {\n",
              "      background-color: #434B5C;\n",
              "      box-shadow: 0px 1px 3px 1px rgba(0, 0, 0, 0.15);\n",
              "      filter: drop-shadow(0px 1px 2px rgba(0, 0, 0, 0.3));\n",
              "      fill: #FFFFFF;\n",
              "    }\n",
              "  </style>\n",
              "\n",
              "      <script>\n",
              "        const buttonEl =\n",
              "          document.querySelector('#df-ecced0cd-f85b-42f7-89b9-ac71d0639936 button.colab-df-convert');\n",
              "        buttonEl.style.display =\n",
              "          google.colab.kernel.accessAllowed ? 'block' : 'none';\n",
              "\n",
              "        async function convertToInteractive(key) {\n",
              "          const element = document.querySelector('#df-ecced0cd-f85b-42f7-89b9-ac71d0639936');\n",
              "          const dataTable =\n",
              "            await google.colab.kernel.invokeFunction('convertToInteractive',\n",
              "                                                     [key], {});\n",
              "          if (!dataTable) return;\n",
              "\n",
              "          const docLinkHtml = 'Like what you see? Visit the ' +\n",
              "            '<a target=\"_blank\" href=https://colab.research.google.com/notebooks/data_table.ipynb>data table notebook</a>'\n",
              "            + ' to learn more about interactive tables.';\n",
              "          element.innerHTML = '';\n",
              "          dataTable['output_type'] = 'display_data';\n",
              "          await google.colab.output.renderOutput(dataTable, element);\n",
              "          const docLink = document.createElement('div');\n",
              "          docLink.innerHTML = docLinkHtml;\n",
              "          element.appendChild(docLink);\n",
              "        }\n",
              "      </script>\n",
              "    </div>\n",
              "  </div>\n",
              "  "
            ]
          },
          "metadata": {},
          "execution_count": 4
        }
      ]
    },
    {
      "cell_type": "code",
      "source": [
        "clicks_df = pd.read_csv('dataset-train/train-clicks.csv', sep=';')"
      ],
      "metadata": {
        "id": "PWt6H7bfgLuv"
      },
      "execution_count": 5,
      "outputs": []
    },
    {
      "cell_type": "code",
      "source": [
        "clicks_df"
      ],
      "metadata": {
        "colab": {
          "base_uri": "https://localhost:8080/",
          "height": 424
        },
        "id": "8mTqtzj-3DNu",
        "outputId": "11a48c09-e665-4f33-ce51-609f6523c499"
      },
      "execution_count": 6,
      "outputs": [
        {
          "output_type": "execute_result",
          "data": {
            "text/plain": [
              "         queryId  timeframe  itemId\n",
              "0              1   16338861   24857\n",
              "1          46255   16404912   30792\n",
              "2          46689    3831948    8252\n",
              "3          46731   16273568   33969\n",
              "4          46748    4058493    7837\n",
              "...          ...        ...     ...\n",
              "1127759   980493     630896   42906\n",
              "1127760   980493     641403   33312\n",
              "1127761   980493      49028   33312\n",
              "1127762   980493     573532    5227\n",
              "1127763   980503     132863   13296\n",
              "\n",
              "[1127764 rows x 3 columns]"
            ],
            "text/html": [
              "\n",
              "  <div id=\"df-85db47d2-e99c-4d0b-98a3-c964b2eaf048\">\n",
              "    <div class=\"colab-df-container\">\n",
              "      <div>\n",
              "<style scoped>\n",
              "    .dataframe tbody tr th:only-of-type {\n",
              "        vertical-align: middle;\n",
              "    }\n",
              "\n",
              "    .dataframe tbody tr th {\n",
              "        vertical-align: top;\n",
              "    }\n",
              "\n",
              "    .dataframe thead th {\n",
              "        text-align: right;\n",
              "    }\n",
              "</style>\n",
              "<table border=\"1\" class=\"dataframe\">\n",
              "  <thead>\n",
              "    <tr style=\"text-align: right;\">\n",
              "      <th></th>\n",
              "      <th>queryId</th>\n",
              "      <th>timeframe</th>\n",
              "      <th>itemId</th>\n",
              "    </tr>\n",
              "  </thead>\n",
              "  <tbody>\n",
              "    <tr>\n",
              "      <th>0</th>\n",
              "      <td>1</td>\n",
              "      <td>16338861</td>\n",
              "      <td>24857</td>\n",
              "    </tr>\n",
              "    <tr>\n",
              "      <th>1</th>\n",
              "      <td>46255</td>\n",
              "      <td>16404912</td>\n",
              "      <td>30792</td>\n",
              "    </tr>\n",
              "    <tr>\n",
              "      <th>2</th>\n",
              "      <td>46689</td>\n",
              "      <td>3831948</td>\n",
              "      <td>8252</td>\n",
              "    </tr>\n",
              "    <tr>\n",
              "      <th>3</th>\n",
              "      <td>46731</td>\n",
              "      <td>16273568</td>\n",
              "      <td>33969</td>\n",
              "    </tr>\n",
              "    <tr>\n",
              "      <th>4</th>\n",
              "      <td>46748</td>\n",
              "      <td>4058493</td>\n",
              "      <td>7837</td>\n",
              "    </tr>\n",
              "    <tr>\n",
              "      <th>...</th>\n",
              "      <td>...</td>\n",
              "      <td>...</td>\n",
              "      <td>...</td>\n",
              "    </tr>\n",
              "    <tr>\n",
              "      <th>1127759</th>\n",
              "      <td>980493</td>\n",
              "      <td>630896</td>\n",
              "      <td>42906</td>\n",
              "    </tr>\n",
              "    <tr>\n",
              "      <th>1127760</th>\n",
              "      <td>980493</td>\n",
              "      <td>641403</td>\n",
              "      <td>33312</td>\n",
              "    </tr>\n",
              "    <tr>\n",
              "      <th>1127761</th>\n",
              "      <td>980493</td>\n",
              "      <td>49028</td>\n",
              "      <td>33312</td>\n",
              "    </tr>\n",
              "    <tr>\n",
              "      <th>1127762</th>\n",
              "      <td>980493</td>\n",
              "      <td>573532</td>\n",
              "      <td>5227</td>\n",
              "    </tr>\n",
              "    <tr>\n",
              "      <th>1127763</th>\n",
              "      <td>980503</td>\n",
              "      <td>132863</td>\n",
              "      <td>13296</td>\n",
              "    </tr>\n",
              "  </tbody>\n",
              "</table>\n",
              "<p>1127764 rows × 3 columns</p>\n",
              "</div>\n",
              "      <button class=\"colab-df-convert\" onclick=\"convertToInteractive('df-85db47d2-e99c-4d0b-98a3-c964b2eaf048')\"\n",
              "              title=\"Convert this dataframe to an interactive table.\"\n",
              "              style=\"display:none;\">\n",
              "        \n",
              "  <svg xmlns=\"http://www.w3.org/2000/svg\" height=\"24px\"viewBox=\"0 0 24 24\"\n",
              "       width=\"24px\">\n",
              "    <path d=\"M0 0h24v24H0V0z\" fill=\"none\"/>\n",
              "    <path d=\"M18.56 5.44l.94 2.06.94-2.06 2.06-.94-2.06-.94-.94-2.06-.94 2.06-2.06.94zm-11 1L8.5 8.5l.94-2.06 2.06-.94-2.06-.94L8.5 2.5l-.94 2.06-2.06.94zm10 10l.94 2.06.94-2.06 2.06-.94-2.06-.94-.94-2.06-.94 2.06-2.06.94z\"/><path d=\"M17.41 7.96l-1.37-1.37c-.4-.4-.92-.59-1.43-.59-.52 0-1.04.2-1.43.59L10.3 9.45l-7.72 7.72c-.78.78-.78 2.05 0 2.83L4 21.41c.39.39.9.59 1.41.59.51 0 1.02-.2 1.41-.59l7.78-7.78 2.81-2.81c.8-.78.8-2.07 0-2.86zM5.41 20L4 18.59l7.72-7.72 1.47 1.35L5.41 20z\"/>\n",
              "  </svg>\n",
              "      </button>\n",
              "      \n",
              "  <style>\n",
              "    .colab-df-container {\n",
              "      display:flex;\n",
              "      flex-wrap:wrap;\n",
              "      gap: 12px;\n",
              "    }\n",
              "\n",
              "    .colab-df-convert {\n",
              "      background-color: #E8F0FE;\n",
              "      border: none;\n",
              "      border-radius: 50%;\n",
              "      cursor: pointer;\n",
              "      display: none;\n",
              "      fill: #1967D2;\n",
              "      height: 32px;\n",
              "      padding: 0 0 0 0;\n",
              "      width: 32px;\n",
              "    }\n",
              "\n",
              "    .colab-df-convert:hover {\n",
              "      background-color: #E2EBFA;\n",
              "      box-shadow: 0px 1px 2px rgba(60, 64, 67, 0.3), 0px 1px 3px 1px rgba(60, 64, 67, 0.15);\n",
              "      fill: #174EA6;\n",
              "    }\n",
              "\n",
              "    [theme=dark] .colab-df-convert {\n",
              "      background-color: #3B4455;\n",
              "      fill: #D2E3FC;\n",
              "    }\n",
              "\n",
              "    [theme=dark] .colab-df-convert:hover {\n",
              "      background-color: #434B5C;\n",
              "      box-shadow: 0px 1px 3px 1px rgba(0, 0, 0, 0.15);\n",
              "      filter: drop-shadow(0px 1px 2px rgba(0, 0, 0, 0.3));\n",
              "      fill: #FFFFFF;\n",
              "    }\n",
              "  </style>\n",
              "\n",
              "      <script>\n",
              "        const buttonEl =\n",
              "          document.querySelector('#df-85db47d2-e99c-4d0b-98a3-c964b2eaf048 button.colab-df-convert');\n",
              "        buttonEl.style.display =\n",
              "          google.colab.kernel.accessAllowed ? 'block' : 'none';\n",
              "\n",
              "        async function convertToInteractive(key) {\n",
              "          const element = document.querySelector('#df-85db47d2-e99c-4d0b-98a3-c964b2eaf048');\n",
              "          const dataTable =\n",
              "            await google.colab.kernel.invokeFunction('convertToInteractive',\n",
              "                                                     [key], {});\n",
              "          if (!dataTable) return;\n",
              "\n",
              "          const docLinkHtml = 'Like what you see? Visit the ' +\n",
              "            '<a target=\"_blank\" href=https://colab.research.google.com/notebooks/data_table.ipynb>data table notebook</a>'\n",
              "            + ' to learn more about interactive tables.';\n",
              "          element.innerHTML = '';\n",
              "          dataTable['output_type'] = 'display_data';\n",
              "          await google.colab.output.renderOutput(dataTable, element);\n",
              "          const docLink = document.createElement('div');\n",
              "          docLink.innerHTML = docLinkHtml;\n",
              "          element.appendChild(docLink);\n",
              "        }\n",
              "      </script>\n",
              "    </div>\n",
              "  </div>\n",
              "  "
            ]
          },
          "metadata": {},
          "execution_count": 6
        }
      ]
    },
    {
      "cell_type": "code",
      "source": [
        "views_df = pd.read_csv('dataset-train/train-item-views.csv', sep=';')"
      ],
      "metadata": {
        "id": "cBSLFxMKgQWz"
      },
      "execution_count": 7,
      "outputs": []
    },
    {
      "cell_type": "code",
      "source": [
        "views_df[views_df[\"sessionId\"]==150]"
      ],
      "metadata": {
        "colab": {
          "base_uri": "https://localhost:8080/",
          "height": 112
        },
        "id": "6wCSqmfI2fI-",
        "outputId": "dd3878c2-0115-45c7-ae66-a0642798134c"
      },
      "execution_count": 8,
      "outputs": [
        {
          "output_type": "execute_result",
          "data": {
            "text/plain": [
              "     sessionId  userId  itemId  timeframe   eventdate\n",
              "616        150     NaN   79520     214948  2016-05-06\n",
              "617        150     NaN   25911      20533  2016-05-06"
            ],
            "text/html": [
              "\n",
              "  <div id=\"df-cc7579c1-54cc-4b4c-8537-b784cf8bb503\">\n",
              "    <div class=\"colab-df-container\">\n",
              "      <div>\n",
              "<style scoped>\n",
              "    .dataframe tbody tr th:only-of-type {\n",
              "        vertical-align: middle;\n",
              "    }\n",
              "\n",
              "    .dataframe tbody tr th {\n",
              "        vertical-align: top;\n",
              "    }\n",
              "\n",
              "    .dataframe thead th {\n",
              "        text-align: right;\n",
              "    }\n",
              "</style>\n",
              "<table border=\"1\" class=\"dataframe\">\n",
              "  <thead>\n",
              "    <tr style=\"text-align: right;\">\n",
              "      <th></th>\n",
              "      <th>sessionId</th>\n",
              "      <th>userId</th>\n",
              "      <th>itemId</th>\n",
              "      <th>timeframe</th>\n",
              "      <th>eventdate</th>\n",
              "    </tr>\n",
              "  </thead>\n",
              "  <tbody>\n",
              "    <tr>\n",
              "      <th>616</th>\n",
              "      <td>150</td>\n",
              "      <td>NaN</td>\n",
              "      <td>79520</td>\n",
              "      <td>214948</td>\n",
              "      <td>2016-05-06</td>\n",
              "    </tr>\n",
              "    <tr>\n",
              "      <th>617</th>\n",
              "      <td>150</td>\n",
              "      <td>NaN</td>\n",
              "      <td>25911</td>\n",
              "      <td>20533</td>\n",
              "      <td>2016-05-06</td>\n",
              "    </tr>\n",
              "  </tbody>\n",
              "</table>\n",
              "</div>\n",
              "      <button class=\"colab-df-convert\" onclick=\"convertToInteractive('df-cc7579c1-54cc-4b4c-8537-b784cf8bb503')\"\n",
              "              title=\"Convert this dataframe to an interactive table.\"\n",
              "              style=\"display:none;\">\n",
              "        \n",
              "  <svg xmlns=\"http://www.w3.org/2000/svg\" height=\"24px\"viewBox=\"0 0 24 24\"\n",
              "       width=\"24px\">\n",
              "    <path d=\"M0 0h24v24H0V0z\" fill=\"none\"/>\n",
              "    <path d=\"M18.56 5.44l.94 2.06.94-2.06 2.06-.94-2.06-.94-.94-2.06-.94 2.06-2.06.94zm-11 1L8.5 8.5l.94-2.06 2.06-.94-2.06-.94L8.5 2.5l-.94 2.06-2.06.94zm10 10l.94 2.06.94-2.06 2.06-.94-2.06-.94-.94-2.06-.94 2.06-2.06.94z\"/><path d=\"M17.41 7.96l-1.37-1.37c-.4-.4-.92-.59-1.43-.59-.52 0-1.04.2-1.43.59L10.3 9.45l-7.72 7.72c-.78.78-.78 2.05 0 2.83L4 21.41c.39.39.9.59 1.41.59.51 0 1.02-.2 1.41-.59l7.78-7.78 2.81-2.81c.8-.78.8-2.07 0-2.86zM5.41 20L4 18.59l7.72-7.72 1.47 1.35L5.41 20z\"/>\n",
              "  </svg>\n",
              "      </button>\n",
              "      \n",
              "  <style>\n",
              "    .colab-df-container {\n",
              "      display:flex;\n",
              "      flex-wrap:wrap;\n",
              "      gap: 12px;\n",
              "    }\n",
              "\n",
              "    .colab-df-convert {\n",
              "      background-color: #E8F0FE;\n",
              "      border: none;\n",
              "      border-radius: 50%;\n",
              "      cursor: pointer;\n",
              "      display: none;\n",
              "      fill: #1967D2;\n",
              "      height: 32px;\n",
              "      padding: 0 0 0 0;\n",
              "      width: 32px;\n",
              "    }\n",
              "\n",
              "    .colab-df-convert:hover {\n",
              "      background-color: #E2EBFA;\n",
              "      box-shadow: 0px 1px 2px rgba(60, 64, 67, 0.3), 0px 1px 3px 1px rgba(60, 64, 67, 0.15);\n",
              "      fill: #174EA6;\n",
              "    }\n",
              "\n",
              "    [theme=dark] .colab-df-convert {\n",
              "      background-color: #3B4455;\n",
              "      fill: #D2E3FC;\n",
              "    }\n",
              "\n",
              "    [theme=dark] .colab-df-convert:hover {\n",
              "      background-color: #434B5C;\n",
              "      box-shadow: 0px 1px 3px 1px rgba(0, 0, 0, 0.15);\n",
              "      filter: drop-shadow(0px 1px 2px rgba(0, 0, 0, 0.3));\n",
              "      fill: #FFFFFF;\n",
              "    }\n",
              "  </style>\n",
              "\n",
              "      <script>\n",
              "        const buttonEl =\n",
              "          document.querySelector('#df-cc7579c1-54cc-4b4c-8537-b784cf8bb503 button.colab-df-convert');\n",
              "        buttonEl.style.display =\n",
              "          google.colab.kernel.accessAllowed ? 'block' : 'none';\n",
              "\n",
              "        async function convertToInteractive(key) {\n",
              "          const element = document.querySelector('#df-cc7579c1-54cc-4b4c-8537-b784cf8bb503');\n",
              "          const dataTable =\n",
              "            await google.colab.kernel.invokeFunction('convertToInteractive',\n",
              "                                                     [key], {});\n",
              "          if (!dataTable) return;\n",
              "\n",
              "          const docLinkHtml = 'Like what you see? Visit the ' +\n",
              "            '<a target=\"_blank\" href=https://colab.research.google.com/notebooks/data_table.ipynb>data table notebook</a>'\n",
              "            + ' to learn more about interactive tables.';\n",
              "          element.innerHTML = '';\n",
              "          dataTable['output_type'] = 'display_data';\n",
              "          await google.colab.output.renderOutput(dataTable, element);\n",
              "          const docLink = document.createElement('div');\n",
              "          docLink.innerHTML = docLinkHtml;\n",
              "          element.appendChild(docLink);\n",
              "        }\n",
              "      </script>\n",
              "    </div>\n",
              "  </div>\n",
              "  "
            ]
          },
          "metadata": {},
          "execution_count": 8
        }
      ]
    },
    {
      "cell_type": "code",
      "source": [
        "queries_df = pd.read_csv('dataset-train/train-queries.csv', sep=';',low_memory=False)"
      ],
      "metadata": {
        "id": "sDuDgerdhqHY"
      },
      "execution_count": 9,
      "outputs": []
    },
    {
      "cell_type": "code",
      "source": [
        "lst = list(queries_df[queries_df[\"sessionId\"]==150]['queryId'])"
      ],
      "metadata": {
        "id": "NUYIayH5mtmE"
      },
      "execution_count": 10,
      "outputs": []
    },
    {
      "cell_type": "code",
      "source": [
        "queries_df = queries_df[queries_df['is.test']== False]"
      ],
      "metadata": {
        "id": "tKF9VFH3lcy8"
      },
      "execution_count": 13,
      "outputs": []
    },
    {
      "cell_type": "code",
      "source": [
        "clicks_df[clicks_df['queryId'].isin(lst)]"
      ],
      "metadata": {
        "colab": {
          "base_uri": "https://localhost:8080/",
          "height": 237
        },
        "id": "Uyc5H62H35X0",
        "outputId": "83896af7-a051-4ebc-eba0-fa24d736aff0"
      },
      "execution_count": 14,
      "outputs": [
        {
          "output_type": "execute_result",
          "data": {
            "text/plain": [
              "     queryId  timeframe  itemId\n",
              "490      152    1599121    5045\n",
              "491    45531    1562860   25911\n",
              "492    45636   11948071   13889\n",
              "493    45636   12003222   13889\n",
              "494    45664    1627804   25911\n",
              "495   625966   33453784  282057"
            ],
            "text/html": [
              "\n",
              "  <div id=\"df-bb35b535-38de-4699-8e7d-6ea4a0f293f0\">\n",
              "    <div class=\"colab-df-container\">\n",
              "      <div>\n",
              "<style scoped>\n",
              "    .dataframe tbody tr th:only-of-type {\n",
              "        vertical-align: middle;\n",
              "    }\n",
              "\n",
              "    .dataframe tbody tr th {\n",
              "        vertical-align: top;\n",
              "    }\n",
              "\n",
              "    .dataframe thead th {\n",
              "        text-align: right;\n",
              "    }\n",
              "</style>\n",
              "<table border=\"1\" class=\"dataframe\">\n",
              "  <thead>\n",
              "    <tr style=\"text-align: right;\">\n",
              "      <th></th>\n",
              "      <th>queryId</th>\n",
              "      <th>timeframe</th>\n",
              "      <th>itemId</th>\n",
              "    </tr>\n",
              "  </thead>\n",
              "  <tbody>\n",
              "    <tr>\n",
              "      <th>490</th>\n",
              "      <td>152</td>\n",
              "      <td>1599121</td>\n",
              "      <td>5045</td>\n",
              "    </tr>\n",
              "    <tr>\n",
              "      <th>491</th>\n",
              "      <td>45531</td>\n",
              "      <td>1562860</td>\n",
              "      <td>25911</td>\n",
              "    </tr>\n",
              "    <tr>\n",
              "      <th>492</th>\n",
              "      <td>45636</td>\n",
              "      <td>11948071</td>\n",
              "      <td>13889</td>\n",
              "    </tr>\n",
              "    <tr>\n",
              "      <th>493</th>\n",
              "      <td>45636</td>\n",
              "      <td>12003222</td>\n",
              "      <td>13889</td>\n",
              "    </tr>\n",
              "    <tr>\n",
              "      <th>494</th>\n",
              "      <td>45664</td>\n",
              "      <td>1627804</td>\n",
              "      <td>25911</td>\n",
              "    </tr>\n",
              "    <tr>\n",
              "      <th>495</th>\n",
              "      <td>625966</td>\n",
              "      <td>33453784</td>\n",
              "      <td>282057</td>\n",
              "    </tr>\n",
              "  </tbody>\n",
              "</table>\n",
              "</div>\n",
              "      <button class=\"colab-df-convert\" onclick=\"convertToInteractive('df-bb35b535-38de-4699-8e7d-6ea4a0f293f0')\"\n",
              "              title=\"Convert this dataframe to an interactive table.\"\n",
              "              style=\"display:none;\">\n",
              "        \n",
              "  <svg xmlns=\"http://www.w3.org/2000/svg\" height=\"24px\"viewBox=\"0 0 24 24\"\n",
              "       width=\"24px\">\n",
              "    <path d=\"M0 0h24v24H0V0z\" fill=\"none\"/>\n",
              "    <path d=\"M18.56 5.44l.94 2.06.94-2.06 2.06-.94-2.06-.94-.94-2.06-.94 2.06-2.06.94zm-11 1L8.5 8.5l.94-2.06 2.06-.94-2.06-.94L8.5 2.5l-.94 2.06-2.06.94zm10 10l.94 2.06.94-2.06 2.06-.94-2.06-.94-.94-2.06-.94 2.06-2.06.94z\"/><path d=\"M17.41 7.96l-1.37-1.37c-.4-.4-.92-.59-1.43-.59-.52 0-1.04.2-1.43.59L10.3 9.45l-7.72 7.72c-.78.78-.78 2.05 0 2.83L4 21.41c.39.39.9.59 1.41.59.51 0 1.02-.2 1.41-.59l7.78-7.78 2.81-2.81c.8-.78.8-2.07 0-2.86zM5.41 20L4 18.59l7.72-7.72 1.47 1.35L5.41 20z\"/>\n",
              "  </svg>\n",
              "      </button>\n",
              "      \n",
              "  <style>\n",
              "    .colab-df-container {\n",
              "      display:flex;\n",
              "      flex-wrap:wrap;\n",
              "      gap: 12px;\n",
              "    }\n",
              "\n",
              "    .colab-df-convert {\n",
              "      background-color: #E8F0FE;\n",
              "      border: none;\n",
              "      border-radius: 50%;\n",
              "      cursor: pointer;\n",
              "      display: none;\n",
              "      fill: #1967D2;\n",
              "      height: 32px;\n",
              "      padding: 0 0 0 0;\n",
              "      width: 32px;\n",
              "    }\n",
              "\n",
              "    .colab-df-convert:hover {\n",
              "      background-color: #E2EBFA;\n",
              "      box-shadow: 0px 1px 2px rgba(60, 64, 67, 0.3), 0px 1px 3px 1px rgba(60, 64, 67, 0.15);\n",
              "      fill: #174EA6;\n",
              "    }\n",
              "\n",
              "    [theme=dark] .colab-df-convert {\n",
              "      background-color: #3B4455;\n",
              "      fill: #D2E3FC;\n",
              "    }\n",
              "\n",
              "    [theme=dark] .colab-df-convert:hover {\n",
              "      background-color: #434B5C;\n",
              "      box-shadow: 0px 1px 3px 1px rgba(0, 0, 0, 0.15);\n",
              "      filter: drop-shadow(0px 1px 2px rgba(0, 0, 0, 0.3));\n",
              "      fill: #FFFFFF;\n",
              "    }\n",
              "  </style>\n",
              "\n",
              "      <script>\n",
              "        const buttonEl =\n",
              "          document.querySelector('#df-bb35b535-38de-4699-8e7d-6ea4a0f293f0 button.colab-df-convert');\n",
              "        buttonEl.style.display =\n",
              "          google.colab.kernel.accessAllowed ? 'block' : 'none';\n",
              "\n",
              "        async function convertToInteractive(key) {\n",
              "          const element = document.querySelector('#df-bb35b535-38de-4699-8e7d-6ea4a0f293f0');\n",
              "          const dataTable =\n",
              "            await google.colab.kernel.invokeFunction('convertToInteractive',\n",
              "                                                     [key], {});\n",
              "          if (!dataTable) return;\n",
              "\n",
              "          const docLinkHtml = 'Like what you see? Visit the ' +\n",
              "            '<a target=\"_blank\" href=https://colab.research.google.com/notebooks/data_table.ipynb>data table notebook</a>'\n",
              "            + ' to learn more about interactive tables.';\n",
              "          element.innerHTML = '';\n",
              "          dataTable['output_type'] = 'display_data';\n",
              "          await google.colab.output.renderOutput(dataTable, element);\n",
              "          const docLink = document.createElement('div');\n",
              "          docLink.innerHTML = docLinkHtml;\n",
              "          element.appendChild(docLink);\n",
              "        }\n",
              "      </script>\n",
              "    </div>\n",
              "  </div>\n",
              "  "
            ]
          },
          "metadata": {},
          "execution_count": 14
        }
      ]
    },
    {
      "cell_type": "code",
      "source": [
        "queries_df.shape"
      ],
      "metadata": {
        "colab": {
          "base_uri": "https://localhost:8080/"
        },
        "id": "rIR78XQDm2V8",
        "outputId": "f081d4f0-9bcf-493d-df6d-572dc7facd18"
      },
      "execution_count": 15,
      "outputs": [
        {
          "output_type": "execute_result",
          "data": {
            "text/plain": [
              "(636160, 10)"
            ]
          },
          "metadata": {},
          "execution_count": 15
        }
      ]
    },
    {
      "cell_type": "code",
      "source": [
        "queries_df['duration'].hist()"
      ],
      "metadata": {
        "colab": {
          "base_uri": "https://localhost:8080/",
          "height": 282
        },
        "id": "uMC4CGoRm3Yb",
        "outputId": "5b462386-256c-4600-c40e-54ea8ea0395e"
      },
      "execution_count": 16,
      "outputs": [
        {
          "output_type": "execute_result",
          "data": {
            "text/plain": [
              "<matplotlib.axes._subplots.AxesSubplot at 0x7ff342020050>"
            ]
          },
          "metadata": {},
          "execution_count": 16
        },
        {
          "output_type": "display_data",
          "data": {
            "text/plain": [
              "<Figure size 432x288 with 1 Axes>"
            ],
            "image/png": "[encoded data removed]"
          },
          "metadata": {
            "needs_background": "light"
          }
        }
      ]
    },
    {
      "cell_type": "code",
      "source": [
        "# queries_df = queries_df[queries_df['duration'] < 10000]"
      ],
      "metadata": {
        "id": "JKpCCUhrm64O"
      },
      "execution_count": 17,
      "outputs": []
    },
    {
      "cell_type": "code",
      "source": [
        "clicks_ses_df = clicks_df.merge(queries_df[['queryId','eventdate','sessionId']], left_on = \"queryId\", right_on = \"queryId\", how = \"left\")"
      ],
      "metadata": {
        "id": "CECr6VS-pUXh"
      },
      "execution_count": 18,
      "outputs": []
    },
    {
      "cell_type": "code",
      "source": [
        "purchase_df = purchase_df[['sessionId','eventdate','itemId']]"
      ],
      "metadata": {
        "id": "WH1zR8JqHukS"
      },
      "execution_count": 19,
      "outputs": []
    },
    {
      "cell_type": "code",
      "source": [
        "purchase_df['is_buy'] = 1"
      ],
      "metadata": {
        "id": "SqEkP0ycKwIk"
      },
      "execution_count": 20,
      "outputs": []
    },
    {
      "cell_type": "code",
      "source": [
        "clicks_ses_df = clicks_ses_df[['sessionId','eventdate','itemId']]"
      ],
      "metadata": {
        "id": "DvCaAs_LLGP1"
      },
      "execution_count": 21,
      "outputs": []
    },
    {
      "cell_type": "code",
      "source": [
        "clicks_ses_df['is_buy'] = 0"
      ],
      "metadata": {
        "id": "QtgI8SlrLOGN"
      },
      "execution_count": 22,
      "outputs": []
    },
    {
      "cell_type": "code",
      "source": [
        "data_df = pd.concat([clicks_ses_df, purchase_df])"
      ],
      "metadata": {
        "id": "UBYlhyEsLSIv"
      },
      "execution_count": 23,
      "outputs": []
    },
    {
      "cell_type": "code",
      "source": [
        "data_df.rename(columns={'sessionId': 'session_id_c',\n",
        "                   'eventdate': 'timestamp',\n",
        "                   'itemId':'item_id'},\n",
        "          inplace=True)"
      ],
      "metadata": {
        "id": "HzjBRYzoH5LZ"
      },
      "execution_count": 34,
      "outputs": []
    },
    {
      "cell_type": "code",
      "source": [
        "data_sort_df = data_df.sort_values(['session_id_c', 'timestamp'], ascending=[True, True])\n"
      ],
      "metadata": {
        "id": "ybQcul5nJuyd"
      },
      "execution_count": 35,
      "outputs": []
    },
    {
      "cell_type": "code",
      "source": [
        "data_sort_df= data_sort_df.dropna()\n",
        "data_sort_df = data_sort_df.reset_index(drop=True)"
      ],
      "metadata": {
        "id": "nTE7sXIILh2c"
      },
      "execution_count": 36,
      "outputs": []
    },
    {
      "cell_type": "code",
      "source": [
        "data_sort_df['session_id'] = np.array(data_sort_df.session_id_c)"
      ],
      "metadata": {
        "id": "vQgRIf3ID4n4"
      },
      "execution_count": 37,
      "outputs": []
    },
    {
      "cell_type": "code",
      "source": [
        "data_sort_df['item_id'] = np.array(data_sort_df.item_id)"
      ],
      "metadata": {
        "id": "bEl1o9-IFDw_"
      },
      "execution_count": 38,
      "outputs": []
    },
    {
      "cell_type": "code",
      "source": [
        "data_sort_df = data_sort_df[['session_id','timestamp','item_id','is_buy']]"
      ],
      "metadata": {
        "id": "AUq-gAgbFBaa"
      },
      "execution_count": 39,
      "outputs": []
    },
    {
      "cell_type": "code",
      "source": [
        "data_sort_df['is_buy'] = np.array(data_sort_df.is_buy)"
      ],
      "metadata": {
        "id": "vd2ODZfPNfZ-"
      },
      "execution_count": 40,
      "outputs": []
    },
    {
      "cell_type": "code",
      "source": [
        "lst_ses = data_sort_df[\"session_id\"].value_counts()"
      ],
      "metadata": {
        "id": "CSGwQZSqlEHA"
      },
      "execution_count": 69,
      "outputs": []
    },
    {
      "cell_type": "code",
      "source": [
        "data_sort_df = data_sort_df[(data_sort_df['session_id'].isin(lst_ses[lst_ses>2].index)) & (data_sort_df['session_id'].isin(lst_ses[lst_ses<51].index))]"
      ],
      "metadata": {
        "id": "NPzI-XksxoHK"
      },
      "execution_count": 70,
      "outputs": []
    },
    {
      "cell_type": "code",
      "source": [
        "unq_lst = np.array(data_sort_df.item_id.unique())"
      ],
      "metadata": {
        "id": "0i6YSE0TKnhk"
      },
      "execution_count": 71,
      "outputs": []
    },
    {
      "cell_type": "code",
      "source": [
        "idx = [np.where(unq_lst==i)[0][0] for i in data_sort_df['item_id']]"
      ],
      "metadata": {
        "id": "43IPM18TL0xG"
      },
      "execution_count": 72,
      "outputs": []
    },
    {
      "cell_type": "code",
      "source": [
        "data_sort_df['idx'] = idx"
      ],
      "metadata": {
        "id": "1i220V7oK4Zk"
      },
      "execution_count": 73,
      "outputs": []
    },
    {
      "cell_type": "code",
      "source": [
        "data_sort_df.rename(columns={'item_id': 'item_id_origin',\n",
        "                   'idx': 'item_id'},\n",
        "          inplace=True)"
      ],
      "metadata": {
        "id": "qXz0OpT89IZ5"
      },
      "execution_count": 74,
      "outputs": []
    },
    {
      "cell_type": "code",
      "source": [
        "data_sort_df = data_sort_df.reset_index(drop=True)"
      ],
      "metadata": {
        "id": "XijNW2pup3wg"
      },
      "execution_count": 75,
      "outputs": []
    },
    {
      "cell_type": "code",
      "source": [
        "data_sort_df.columns"
      ],
      "metadata": {
        "colab": {
          "base_uri": "https://localhost:8080/"
        },
        "id": "_vFvmI2vNz0u",
        "outputId": "261bc460-4107-4a58-a058-8a61605a87db"
      },
      "execution_count": 76,
      "outputs": [
        {
          "output_type": "execute_result",
          "data": {
            "text/plain": [
              "Index(['session_id', 'timestamp', 'item_id_origin', 'is_buy', 'item_id_origin',\n",
              "       'item_id'],\n",
              "      dtype='object')"
            ]
          },
          "metadata": {},
          "execution_count": 76
        }
      ]
    },
    {
      "cell_type": "code",
      "source": [
        "data = data_sort_df[['session_id', 'timestamp', 'item_id', 'is_buy']]"
      ],
      "metadata": {
        "id": "RadDTTHZNrJ1"
      },
      "execution_count": 78,
      "outputs": []
    },
    {
      "cell_type": "code",
      "source": [
        "import os\n",
        "def to_pickled_df(data_directory, **kwargs):\n",
        "    for name, df in kwargs.items():\n",
        "        df.to_pickle(os.path.join(data_directory, name + '.df'))"
      ],
      "metadata": {
        "id": "ZonTEqJXUo6y"
      },
      "execution_count": 79,
      "outputs": []
    },
    {
      "cell_type": "code",
      "source": [
        "to_pickled_df('dataset-train', sampled_sessions=data)"
      ],
      "metadata": {
        "id": "8WtyYG5-Nfz_"
      },
      "execution_count": 80,
      "outputs": []
    },
    {
      "cell_type": "code",
      "source": [],
      "metadata": {
        "id": "EJwQJVvS7ida"
      },
      "execution_count": null,
      "outputs": []
    }
  ]
}